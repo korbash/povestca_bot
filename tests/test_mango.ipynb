{
 "cells": [
  {
   "cell_type": "code",
   "execution_count": 17,
   "metadata": {},
   "outputs": [],
   "source": [
    "import os\n",
    "import pymongo\n",
    "import numpy as np\n",
    "import pandas as pd\n",
    "from bson.objectid import ObjectId\n",
    "import gridfs\n",
    "import matplotlib.pyplot as plt\n",
    "import dotenv\n",
    "\n",
    "dotenv.load_dotenv('../keys/keys.env')\n",
    "client = pymongo.MongoClient(host=os.environ['host'],\n",
    "                             port=int(os.environ['port']),\n",
    "                             replicaSet='rs01',\n",
    "                             username=os.environ['username'],\n",
    "                             password=os.environ['password'],\n",
    "                             authSource=os.environ['database'],\n",
    "                             tls=True,\n",
    "                             tlsCAFile='../keys/cert.pem')\n",
    "db = client[os.environ['database']]\n",
    "fs = gridfs.GridFS(db)"
   ]
  },
  {
   "cell_type": "code",
   "execution_count": 18,
   "metadata": {},
   "outputs": [
    {
     "data": {
      "text/plain": [
       "['fs.files', 'fs.chunks', 'users', 'cases']"
      ]
     },
     "execution_count": 18,
     "metadata": {},
     "output_type": "execute_result"
    }
   ],
   "source": [
    "db.list_collection_names()"
   ]
  },
  {
   "cell_type": "code",
   "execution_count": 19,
   "metadata": {},
   "outputs": [
    {
     "name": "stdout",
     "output_type": "stream",
     "text": [
      "{'_id': ObjectId('63387ce49860395d20283245'), 'gps': [41.721152, 44.716177], 'foto': [ObjectId('63387ce49860395d20283244')], 'comment': 'Олечка ужинает', 'answers': {'who': [4], 'where': [7], 'when': [0]}, 'question': {'who': ['мент', 'военком', 'дпс', 'жилищник', 'другой'], 'where': ['на работе', 'в метро', 'на улице у метро', 'на автобусной остановке', 'на дороге', 'во дворе', 'у офисного здания', 'у квартиры'], 'when': ['сейчас', '10 мин назад', 'полчаса назад', 'час назад', '2 часа назад', '4 часа назад', '8 часов назад', 'вчера']}, 'time': {'gps': [1664646327.2749236], 'foto': [1664646332.2272902], 'comment': [1664646350.1904137], 'answers': [1664646357.1433337, 1664646370.037616, 1664646372.3016887], 'median': 1664646349.7883062, 'dt': 45.02676510810852}, 'user': 518289557}\n",
      "\n",
      "\n",
      "{'_id': ObjectId('633889ad2505cd3cc3a21dc0'), 'gps': [41.720992, 44.716307], 'foto': [ObjectId('633889ad2505cd3cc3a21dbf')], 'comment': 'Наш балкон', 'answers': {'who': [4], 'where': [5, 7], 'when': [0]}, 'question': {'who': ['мент', 'военком', 'дпс', 'жилищник', 'другой'], 'where': ['на работе', 'в метро', 'на улице у метро', 'на автобусной остановке', 'на дороге', 'во дворе', 'у офисного здания', 'у квартиры'], 'when': ['сейчас', '10 мин назад', 'полчаса назад', 'час назад', '2 часа назад', '4 часа назад', '8 часов назад', 'вчера']}, 'time': {'gps': [1664649606.6305935], 'foto': [1664649594.805933], 'comment': [1664649620.601735], 'answers': [1664649628.0277448, 1664649643.4909384, 1664649645.581116], 'median': 1664649620.1935244, 'dt': 50.7751829624176}, 'user': 518289557}\n",
      "\n",
      "\n",
      "{'_id': ObjectId('63388b2a24c43a26296448ba'), 'gps': [41.721168, 44.716155], 'foto': [ObjectId('63388b2a24c43a26296448b9')], 'comment': 'Олечка', 'answers': {'who': [3], 'where': [7], 'when': [0]}, 'question': {'who': ['мент', 'военком', 'дпс', 'жилищник', 'другой'], 'where': ['на работе', 'в метро', 'на улице у метро', 'на автобусной остановке', 'на дороге', 'во дворе', 'у офисного здания', 'у квартиры'], 'when': ['сейчас', '10 мин назад', 'полчаса назад', 'час назад', '2 часа назад', '4 часа назад', '8 часов назад', 'вчера']}, 'time': {'gps': [1664650014.3852983], 'foto': [1664649999.429867], 'comment': [1664650005.4154966], 'answers': [1664650021.060092, 1664650024.7556636, 1664650026.679926], 'median': 1664650013.0548964, 'dt': 27.250058889389038}, 'user': 518289557}\n",
      "\n",
      "\n"
     ]
    }
   ],
   "source": [
    "kurs = db['cases'].find()\n",
    "for doc in kurs:\n",
    "    print(doc)\n",
    "    print('\\n')"
   ]
  },
  {
   "cell_type": "code",
   "execution_count": 21,
   "metadata": {},
   "outputs": [
    {
     "name": "stdout",
     "output_type": "stream",
     "text": [
      "{'_id': 518289557, 'cases': [ObjectId('63387ce49860395d20283245'), ObjectId('633889ad2505cd3cc3a21dc0'), ObjectId('63388b2a24c43a26296448ba')], 'town': 'Тбилиси'}\n",
      "\n",
      "\n"
     ]
    }
   ],
   "source": [
    "kurs = db['users'].find()\n",
    "for doc in kurs:\n",
    "    print(doc)\n",
    "    print('\\n')"
   ]
  },
  {
   "cell_type": "code",
   "execution_count": 10,
   "metadata": {},
   "outputs": [],
   "source": [
    "db['users'].drop()\n",
    "db['cases'].drop()\n",
    "db['fs.files'].drop()\n",
    "db['fs.chunks'].drop()"
   ]
  }
 ],
 "metadata": {
  "kernelspec": {
   "display_name": "Python 3.10.4 ('povestkabot')",
   "language": "python",
   "name": "python3"
  },
  "language_info": {
   "codemirror_mode": {
    "name": "ipython",
    "version": 3
   },
   "file_extension": ".py",
   "mimetype": "text/x-python",
   "name": "python",
   "nbconvert_exporter": "python",
   "pygments_lexer": "ipython3",
   "version": "3.10.4"
  },
  "orig_nbformat": 4,
  "vscode": {
   "interpreter": {
    "hash": "54cf60c9c873685ac54e6597ae084ba28b15f33d0bff98d03ab33d66063b1260"
   }
  }
 },
 "nbformat": 4,
 "nbformat_minor": 2
}
