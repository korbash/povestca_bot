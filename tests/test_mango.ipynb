{
 "cells": [
  {
   "cell_type": "code",
   "execution_count": 1,
   "metadata": {},
   "outputs": [],
   "source": [
    "import os\n",
    "import pymongo\n",
    "import numpy as np\n",
    "import pandas as pd\n",
    "from bson.objectid import ObjectId\n",
    "import gridfs\n",
    "import matplotlib.pyplot as plt\n",
    "import dotenv\n",
    "\n",
    "dotenv.load_dotenv('../keys/keys.env')\n",
    "client = pymongo.MongoClient(host=os.environ['host'],\n",
    "                             port=int(os.environ['port']),\n",
    "                             replicaSet='rs01',\n",
    "                             username=os.environ['username'],\n",
    "                             password=os.environ['password'],\n",
    "                             authSource=os.environ['database'],\n",
    "                             tls=True,\n",
    "                             tlsCAFile='../keys/cert.pem')\n",
    "db = client[os.environ['database']]\n",
    "fs = gridfs.GridFS(db)"
   ]
  },
  {
   "cell_type": "code",
   "execution_count": 9,
   "metadata": {},
   "outputs": [
    {
     "data": {
      "text/plain": [
       "['fs.files', 'fs.chunks']"
      ]
     },
     "execution_count": 9,
     "metadata": {},
     "output_type": "execute_result"
    }
   ],
   "source": [
    "db.list_collection_names()"
   ]
  },
  {
   "cell_type": "code",
   "execution_count": 15,
   "metadata": {},
   "outputs": [
    {
     "name": "stdout",
     "output_type": "stream",
     "text": [
      "{'_id': ObjectId('63387ce49860395d20283245'), 'gps': [41.721152, 44.716177], 'foto': [ObjectId('63387ce49860395d20283244')], 'comment': 'Олечка ужинает', 'answers': {'who': [4], 'where': [7], 'when': [0]}, 'question': {'who': ['мент', 'военком', 'дпс', 'жилищник', 'другой'], 'where': ['на работе', 'в метро', 'на улице у метро', 'на автобусной остановке', 'на дороге', 'во дворе', 'у офисного здания', 'у квартиры'], 'when': ['сейчас', '10 мин назад', 'полчаса назад', 'час назад', '2 часа назад', '4 часа назад', '8 часов назад', 'вчера']}, 'time': {'gps': [1664646327.2749236], 'foto': [1664646332.2272902], 'comment': [1664646350.1904137], 'answers': [1664646357.1433337, 1664646370.037616, 1664646372.3016887], 'median': 1664646349.7883062, 'dt': 45.02676510810852}, 'user': 518289557}\n",
      "\n",
      "\n"
     ]
    }
   ],
   "source": [
    "kurs = db['cases'].find()\n",
    "for doc in kurs:\n",
    "    print(doc)\n",
    "    print('\\n')"
   ]
  },
  {
   "cell_type": "code",
   "execution_count": 16,
   "metadata": {},
   "outputs": [
    {
     "name": "stdout",
     "output_type": "stream",
     "text": [
      "{'_id': 518289557, 'cases': [ObjectId('63387ce49860395d20283245')]}\n",
      "\n",
      "\n"
     ]
    }
   ],
   "source": [
    "kurs = db['users'].find()\n",
    "for doc in kurs:\n",
    "    print(doc)\n",
    "    print('\\n')"
   ]
  },
  {
   "cell_type": "code",
   "execution_count": 10,
   "metadata": {},
   "outputs": [],
   "source": [
    "db['users'].drop()\n",
    "db['cases'].drop()\n",
    "db['fs.files'].drop()\n",
    "db['fs.chunks'].drop()"
   ]
  }
 ],
 "metadata": {
  "kernelspec": {
   "display_name": "Python 3.10.4 ('povestkabot')",
   "language": "python",
   "name": "python3"
  },
  "language_info": {
   "codemirror_mode": {
    "name": "ipython",
    "version": 3
   },
   "file_extension": ".py",
   "mimetype": "text/x-python",
   "name": "python",
   "nbconvert_exporter": "python",
   "pygments_lexer": "ipython3",
   "version": "3.10.4"
  },
  "orig_nbformat": 4,
  "vscode": {
   "interpreter": {
    "hash": "54cf60c9c873685ac54e6597ae084ba28b15f33d0bff98d03ab33d66063b1260"
   }
  }
 },
 "nbformat": 4,
 "nbformat_minor": 2
}
